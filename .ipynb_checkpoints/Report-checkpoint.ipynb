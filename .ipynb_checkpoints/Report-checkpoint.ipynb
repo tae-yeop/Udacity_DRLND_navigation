{
 "cells": [
  {
   "cell_type": "markdown",
   "metadata": {},
   "source": [
    "# Navigation\n",
    "\n",
    "---"
   ]
  },
  {
   "cell_type": "markdown",
   "metadata": {},
   "source": [
    "## 0. Learning Algorithm\n",
    "\n",
    "---\n",
    "\n",
    "To solve the navigating agent problem, I choose [Deep Q-learning algorithm](http://dx.doi.org/10.1038/nature14236)(Mnih et al., Human-level control through deep reinforcement learning).\n",
    "\n",
    "**Algorithm**\n",
    "\n",
    "In this problem, An agent will navigate the square world and collect bananas. Since it receives 37 dimensional state space where each entry has continuos values, Finding action value function with Q-table is not enough. Instead deep nueral networks can be used as a nonlinear function approximator.Full deep Q-leaning algorithm is presented as follows. For this problem, Agent gets low dimensional state space instead of raw pixel inputs, So it doesn't need preprocessing($\\Phi$) the input.\n",
    "\n",
    "\n",
    "\n",
    "<br>\n",
    "<figure>\n",
    "  <img src = \"./pic/dqn_algorithm.png\" width = 70% style = \"border: thin silver solid; padding: 10px\">\n",
    "      <figcaption style = \"text-align: center; font-style: italic\">Fig 1. - Deep Q-learning Algorithm.</figcaption>\n",
    "</figure> \n",
    "<br>\n",
    "\n",
    "\n",
    "\n",
    "\n",
    "Deep Q-learning alogithm uses not only neural networks but also replay buffer and fixed Q-target techique. Replay buffer stores old experiences and samples a small batch of tuples to remove correlations in consecutive observations. This enables learning algorithm to be optimized by mini-bactch gradient decent algorithm. The Authors use RMSProp as optimizer. Since Adam optimizer is considered outperform RMSProp([Kingma et al.](https://arxiv.org/abs/1412.6980)), Therefore I used Adam optimizer.\n",
    "\n",
    "With the fixed Q-target techique, They used seperate target network which is updated periodically, to reduce correlation with TD targets. The target network has fixed parameters, so it produces the fixed Q-target untill it is updated. Therefore this leads to much more stable learning. But the initial result was not that promising, It is still hard to converge. So I used soft update method suggested by Lillicrap et al.([Continuous control with deep reinforcement learning](http://arxiv.org/abs/1509.02971)) and compared the performance of these two methods. "
   ]
  },
  {
   "cell_type": "markdown",
   "metadata": {},
   "source": [
    "**Hyperparamters**\n",
    "\n",
    "All these hyperparamters are inspired by the paper's list of hyperparameters and their values.\n",
    "Buffer size and batch size are much smaller since the task is more simple. \n",
    "\n",
    "```\n",
    "LR = 1e-3              # learning rate for adam optimizer\n",
    "BATCH_SIZE = 128       # minibatch size for replay memory\n",
    "BUFFER_SIZE = int(1e4) # buffer size of replay memory\n",
    "GAMMA = 0.99           # discount factor\n",
    "TAU = 1e-3             # soft update\n",
    "UP_FREQ = 4            # update frequency for target network\n",
    "EPS_START = 1.0        # intial epsilon value\n",
    "EPS_END = 0.01         # final epsilon value\n",
    "EPS_DECAY = 0.995      # epsilon deacy rate\n",
    "```\n",
    "\n",
    "**Model Architecture**\n",
    "\n",
    "Since this reacher problem is low dimensional problem, The Q-network is consist of few several fully connected layers. It gets states as input and ouputs the action-value. \n",
    "\n",
    "```\n",
    "Network(\n",
    "  (fc1): Linear(in_features=37, out_features=64, bias=True)\n",
    "  (fc2): Linear(in_features=64, out_features=32, bias=True)\n",
    "  (fc3): Linear(in_features=32, out_features=4, bias=True)\n",
    ")\n",
    "```\n"
   ]
  },
  {
   "cell_type": "markdown",
   "metadata": {},
   "source": [
    "## 1.Implementation\n",
    "---\n",
    "The network model and agent code are implemented in model.py and agent.py.\n",
    "\n",
    "1. model.py\n",
    "    - Network Class\n",
    "2. agent.py\n",
    "    - Replay Buffer Class\n",
    "    - Agent Class"
   ]
  },
  {
   "cell_type": "code",
   "execution_count": 1,
   "metadata": {},
   "outputs": [],
   "source": [
    "# Load the model.py and agent.py\n",
    "%load_ext autoreload\n",
    "%autoreload 1\n",
    "%aimport model, agent"
   ]
  },
  {
   "cell_type": "code",
   "execution_count": 2,
   "metadata": {},
   "outputs": [],
   "source": [
    "from collections import deque\n",
    "import matplotlib.pyplot as plt\n",
    "import torch\n",
    "%matplotlib inline\n",
    "\n",
    "from agent import Agent"
   ]
  },
  {
   "cell_type": "markdown",
   "metadata": {},
   "source": [
    "## 2. Traning\n",
    "---\n",
    "### 1.Training Code"
   ]
  },
  {
   "cell_type": "code",
   "execution_count": 3,
   "metadata": {},
   "outputs": [
    {
     "name": "stderr",
     "output_type": "stream",
     "text": [
      "INFO:unityagents:\n",
      "'Academy' started successfully!\n",
      "Unity Academy name: Academy\n",
      "        Number of Brains: 1\n",
      "        Number of External Brains : 1\n",
      "        Lesson number : 0\n",
      "        Reset Parameters :\n",
      "\t\t\n",
      "Unity brain name: BananaBrain\n",
      "        Number of Visual Observations (per agent): 0\n",
      "        Vector Observation space type: continuous\n",
      "        Vector Observation space size (per agent): 37\n",
      "        Number of stacked Vector Observation: 1\n",
      "        Vector Action space type: discrete\n",
      "        Vector Action space size (per agent): 4\n",
      "        Vector Action descriptions: , , , \n"
     ]
    }
   ],
   "source": [
    "from unityagents import UnityEnvironment\n",
    "import numpy as np\n",
    "\n",
    "# specifcy where the environment binary file is located.\n",
    "env = UnityEnvironment(file_name=\"data/Banana_Windows_x86_64/Banana.exe\")"
   ]
  },
  {
   "cell_type": "code",
   "execution_count": 4,
   "metadata": {},
   "outputs": [],
   "source": [
    "# get the default brain\n",
    "brain_name = env.brain_names[0]\n",
    "brain = env.brains[brain_name]"
   ]
  },
  {
   "cell_type": "code",
   "execution_count": 5,
   "metadata": {},
   "outputs": [
    {
     "name": "stdout",
     "output_type": "stream",
     "text": [
      "Number of agents: 1\n",
      "Number of actions: 4\n",
      "States look like: [1.         0.         0.         0.         0.84408134 0.\n",
      " 0.         1.         0.         0.0748472  0.         1.\n",
      " 0.         0.         0.25755    1.         0.         0.\n",
      " 0.         0.74177343 0.         1.         0.         0.\n",
      " 0.25854847 0.         0.         1.         0.         0.09355672\n",
      " 0.         1.         0.         0.         0.31969345 0.\n",
      " 0.        ]\n",
      "States have length: 37\n"
     ]
    }
   ],
   "source": [
    "# reset the environment\n",
    "env_info = env.reset(train_mode=True)[brain_name]\n",
    "\n",
    "# number of agents in the environment\n",
    "print('Number of agents:', len(env_info.agents))\n",
    "\n",
    "# number of actions\n",
    "action_size = brain.vector_action_space_size\n",
    "print('Number of actions:', action_size)\n",
    "\n",
    "# examine the state space \n",
    "# env_info.vector_observations.shape : (1,37)\n",
    "state = env_info.vector_observations[0]\n",
    "print('States look like:', state)\n",
    "state_size = len(state)\n",
    "print('States have length:', state_size)"
   ]
  },
  {
   "cell_type": "code",
   "execution_count": 6,
   "metadata": {},
   "outputs": [],
   "source": [
    "# Objecitve average score\n",
    "GOAL_AVG_SCORE = 13"
   ]
  },
  {
   "cell_type": "code",
   "execution_count": 7,
   "metadata": {},
   "outputs": [],
   "source": [
    "# Agent with vanilla update\n",
    "agent_1 = Agent(state_size=state_size, action_size=action_size, seed=2, soft_update=False)\n",
    "agent_1_name = 'no_soft_update'"
   ]
  },
  {
   "cell_type": "code",
   "execution_count": 9,
   "metadata": {},
   "outputs": [],
   "source": [
    "# Agent with soft update\n",
    "agent_2 = Agent(state_size=state_size, action_size=action_size, seed=2, soft_update=True)\n",
    "agent_2_name = 'soft_update'"
   ]
  },
  {
   "cell_type": "code",
   "execution_count": 10,
   "metadata": {
    "scrolled": true
   },
   "outputs": [],
   "source": [
    "def dqn(agent, checkpoint_name, n_episodes=1000, max_t=1000, eps_start=1.0, eps_end=0.01, eps_decay=0.995):\n",
    "    \n",
    "    solved = False\n",
    "    scores=[] # for plotting score graph\n",
    "    scores_window = deque(maxlen=100) # for calculating mean of consecutive scores\n",
    "    eps = eps_start # intial epsilon\n",
    "    \n",
    "    for i_episode in range(1, n_episodes+1):\n",
    "        # reset the environment\n",
    "        env_info = env.reset(train_mode=True)[brain_name]\n",
    "        state = env_info.vector_observations[0]\n",
    "        score = 0\n",
    "        \n",
    "        for t in range(max_t):\n",
    "            action = agent.act(state, eps)\n",
    "            # type of action can be either np.int32 or np.int64  \n",
    "            # Typecast into int\n",
    "            env_info = env.step(int(action))[brain_name]\n",
    "            reward = env_info.rewards[0]\n",
    "            next_state = env_info.vector_observations[0]\n",
    "            done = env_info.local_done[0]\n",
    "            \n",
    "            agent.step(state, action, reward, next_state,done)\n",
    "            state = next_state\n",
    "            score += reward\n",
    "            if done:\n",
    "                break\n",
    "        scores_window.append(score) \n",
    "        scores.append(score)\n",
    "        # decay the epsilon\n",
    "        eps = max(eps_end, eps_decay*eps)\n",
    "        print('\\rEpisode {}\\t Score: {:.2f}'.format(i_episode, score), end=\"\")\n",
    "        if i_episode % 50 == 0:\n",
    "            print('\\rEpisode {}\\tAverage Score: {:.2f}'.format(i_episode, np.mean(scores_window)))\n",
    "        if np.mean(scores_window)>=GOAL_AVG_SCORE and solved==False:\n",
    "            solved_episode = i_episode\n",
    "            solved=True\n",
    "            print('\\r The number of episodes needed to solve the problem : {}'\n",
    "                  .format(solved_episode))\n",
    "    if solved==True:\n",
    "        torch.save(agent.qnetwork_local.state_dict(), './model/'+checkpoint_name+'_checkpoint.pth')\n",
    "    return scores"
   ]
  },
  {
   "cell_type": "code",
   "execution_count": 11,
   "metadata": {},
   "outputs": [],
   "source": [
    "N_episode = 1000\n",
    "MAX_timestep = 1000\n",
    "EPS_START = 1.0\n",
    "EPS_END = 0.01\n",
    "EPS_DECAY = 0.995"
   ]
  },
  {
   "cell_type": "code",
   "execution_count": 12,
   "metadata": {
    "scrolled": true
   },
   "outputs": [
    {
     "name": "stdout",
     "output_type": "stream",
     "text": [
      "Episode 50\tAverage Score: -0.08\n",
      "Episode 100\tAverage Score: -0.09\n",
      "Episode 150\tAverage Score: -0.04\n",
      "Episode 200\tAverage Score: -0.14\n",
      "Episode 250\tAverage Score: -0.38\n",
      "Episode 300\tAverage Score: -0.17\n",
      "Episode 350\tAverage Score: 0.17\n",
      "Episode 400\tAverage Score: 0.40\n",
      "Episode 450\tAverage Score: 1.28\n",
      "Episode 500\tAverage Score: 1.74\n",
      "Episode 550\tAverage Score: 1.53\n",
      "Episode 600\tAverage Score: 1.83\n",
      "Episode 650\tAverage Score: 2.96\n",
      "Episode 700\tAverage Score: 4.85\n",
      "Episode 750\tAverage Score: 4.71\n",
      "Episode 800\tAverage Score: 5.27\n",
      "Episode 850\tAverage Score: 4.11\n",
      "Episode 900\tAverage Score: 2.50\n",
      "Episode 950\tAverage Score: 1.92\n",
      "Episode 1000\tAverage Score: 1.63\n"
     ]
    }
   ],
   "source": [
    "scores_1 = dqn(agent_1,agent_1_name,N_episode, MAX_timestep, EPS_START,EPS_END, EPS_DECAY)            "
   ]
  },
  {
   "cell_type": "code",
   "execution_count": 13,
   "metadata": {},
   "outputs": [
    {
     "name": "stdout",
     "output_type": "stream",
     "text": [
      "Episode 50\tAverage Score: 0.14\n",
      "Episode 100\tAverage Score: 0.11\n",
      "Episode 150\tAverage Score: 0.40\n",
      "Episode 200\tAverage Score: 0.98\n",
      "Episode 250\tAverage Score: 2.73\n",
      "Episode 300\tAverage Score: 4.95\n",
      "Episode 350\tAverage Score: 6.61\n",
      "Episode 400\tAverage Score: 8.24\n",
      "Episode 450\tAverage Score: 8.60\n",
      "Episode 500\tAverage Score: 8.33\n",
      "Episode 550\tAverage Score: 10.32\n",
      "Episode 600\tAverage Score: 12.57\n",
      "Episode 650\tAverage Score: 12.68\n",
      "Episode 700\tAverage Score: 12.24\n",
      "Episode 750\tAverage Score: 12.19\n",
      "Episode 800\tAverage Score: 12.72\n",
      " The number of episodes needed to solve the problem : 817\n",
      "Episode 850\tAverage Score: 13.15\n",
      "Episode 900\tAverage Score: 13.40\n",
      "Episode 950\tAverage Score: 13.95\n",
      "Episode 1000\tAverage Score: 13.90\n"
     ]
    }
   ],
   "source": [
    "scores_2 = dqn(agent_2,agent_2_name,N_episode, MAX_timestep, EPS_START,EPS_END, EPS_DECAY)            "
   ]
  },
  {
   "cell_type": "markdown",
   "metadata": {},
   "source": [
    "### 2. Plot of Rewards"
   ]
  },
  {
   "cell_type": "code",
   "execution_count": 36,
   "metadata": {},
   "outputs": [],
   "source": [
    "import matplotlib.pyplot as plt\n",
    "%matplotlib inline"
   ]
  },
  {
   "cell_type": "markdown",
   "metadata": {},
   "source": [
    "**DQN without soft update**"
   ]
  },
  {
   "cell_type": "code",
   "execution_count": 14,
   "metadata": {
    "scrolled": true
   },
   "outputs": [
    {
     "data": {
      "image/png": "[encoded data removed]",
      "text/plain": [
       "<Figure size 432x288 with 1 Axes>"
      ]
     },
     "metadata": {
      "needs_background": "light"
     },
     "output_type": "display_data"
    }
   ],
   "source": [
    "fig = plt.figure()\n",
    "ax = fig.add_subplot(111)\n",
    "plt.plot(np.arange(len(scores_1)), scores_1)\n",
    "plt.title('Without Soft Update')\n",
    "plt.ylabel('Score')\n",
    "plt.xlabel('Episode #')\n",
    "plt.show()"
   ]
  },
  {
   "cell_type": "markdown",
   "metadata": {},
   "source": [
    "**DQN with soft update**"
   ]
  },
  {
   "cell_type": "code",
   "execution_count": 15,
   "metadata": {},
   "outputs": [
    {
     "data": {
      "image/png": "[encoded data removed]",
      "text/plain": [
       "<Figure size 432x288 with 1 Axes>"
      ]
     },
     "metadata": {
      "needs_background": "light"
     },
     "output_type": "display_data"
    }
   ],
   "source": [
    "fig = plt.figure()\n",
    "ax = fig.add_subplot(111)\n",
    "plt.plot(np.arange(len(scores_2)), scores_2)\n",
    "plt.title('With Soft Update')\n",
    "plt.ylabel('Score')\n",
    "plt.xlabel('Episode #')\n",
    "plt.show()"
   ]
  },
  {
   "cell_type": "markdown",
   "metadata": {},
   "source": [
    "## 3.  Watch a Smart Agent\n",
    "\n"
   ]
  },
  {
   "cell_type": "code",
   "execution_count": 17,
   "metadata": {},
   "outputs": [],
   "source": [
    "# load the weights from file\n",
    "agent_2.qnetwork_local.load_state_dict(torch.load('./model/'+agent_2_name+'_checkpoint.pth'))"
   ]
  },
  {
   "cell_type": "code",
   "execution_count": 18,
   "metadata": {},
   "outputs": [],
   "source": [
    "score = 0\n",
    "env_info = env.reset(train_mode=False)[brain_name]\n",
    "state = env_info.vector_observations[0]\n",
    "while True:\n",
    "    action = agent_2.act(state)\n",
    "\n",
    "    env_info = env.step(int(action))[brain_name]\n",
    "    reward = env_info.rewards[0]\n",
    "    next_state = env_info.vector_observations[0]\n",
    "    done = env_info.local_done[0]\n",
    "\n",
    "    state = next_state\n",
    "    score += reward\n",
    "    if done:\n",
    "        break \n",
    "            \n",
    "env.close()"
   ]
  },
  {
   "cell_type": "markdown",
   "metadata": {},
   "source": [
    "## 4. Ideas for Future Work"
   ]
  },
  {
   "cell_type": "markdown",
   "metadata": {},
   "source": [
    "Even though the problem can be solved by the current settings, It has several things to be imporved. First off, Fine-tuning hyper-paramters might be good start, but it can cost many times. There are many extensions of original deep Q-alogrithm, So I  will consider adopting those models.\n",
    "\n",
    "1. [Prioritized Experience Replay](https://arxiv.org/abs/1511.05952) \n",
    "\n",
    "    Current replay buffer samples the experience unfiormly. But certain experience might be more important than ohters. So by giving some probability based on priority to each experince, Replay buffer can sample important expericens more frequently.\n",
    "    \n",
    "        \n",
    "2. [Double DQN](https://arxiv.org/abs/1509.06461)\n",
    "    \n",
    "    Q-learning is prone to do overestimation of Q-values. Hasselt et al. suggested the double DQN to deal with this problem. 2 seperate netowrk is used to decouple the max operation in the target. Unless both network agree that the action has max Q-value, the the target is not overestimated. \n",
    "    \n",
    "    \n",
    "3. [Deulling DQN](https://arxiv.org/abs/1511.06581)\n",
    "\n",
    "    The Q-network estimates action value for each states. Deulling DQN has two seperate estimators. One for estimating state value function, and the other for estimating state-dependent action advantage function. Therefore It has seperate representation of state and action. The authors show that the dueling DQN can more quickly idenfiy the correct action during policy evaluation.\n",
    "\n",
    "<br>\n",
    "<figure>\n",
    "  <img src = \"./pic/duel_dqn.png\" width = 50% style = \"border: thin silver solid; padding: 10px\">\n",
    "      <figcaption style = \"text-align: center; font-style: italic\">Deulling DQN Architecture.</figcaption>\n",
    "</figure> \n",
    "<br>"
   ]
  }
 ],
 "metadata": {
  "kernelspec": {
   "display_name": "Python 3",
   "language": "python",
   "name": "python3"
  },
  "language_info": {
   "codemirror_mode": {
    "name": "ipython",
    "version": 3
   },
   "file_extension": ".py",
   "mimetype": "text/x-python",
   "name": "python",
   "nbconvert_exporter": "python",
   "pygments_lexer": "ipython3",
   "version": "3.6.8"
  }
 },
 "nbformat": 4,
 "nbformat_minor": 2
}
